{
 "cells": [
  {
   "cell_type": "markdown",
   "metadata": {},
   "source": [
    "### Baixando e extraindo os dados no local do Docker para envio para o HDFS\n",
    "```sh\n",
    "cd /input/\n",
    "\n",
    "curl -O https://mobileapps.saude.gov.br/esus-vepi/files/unAFkcaNDeXajurGB7LChj8SgQYS2ptm/04bd3419b22b9cc5c6efac2c6528100d_HIST_PAINEL_COVIDBR_06jul2021.rar\n",
    "\n",
    "unrar x 04bd3419b22b9cc5c6efac2c6528100d_HIST_PAINEL_COVIDBR_06jul2021.rar```\n"
   ]
  },
  {
   "cell_type": "markdown",
   "metadata": {},
   "source": [
    "## Questão 1"
   ]
  },
  {
   "cell_type": "markdown",
   "metadata": {},
   "source": [
    "Entrando no container do Namenode, criando a pasta e transferindo os arquivos do local para o HDFS:\n",
    "\n",
    "```sh\n",
    "docker exec -it namenode bash\n",
    "\n",
    "hdfs dfs -mkdir -p /user/projeto_basico/dados \n",
    "\n",
    "hdfs dfs -put /input/*.csv /user/projeto_basico/dados\n",
    "```"
   ]
  },
  {
   "cell_type": "code",
   "execution_count": 1,
   "metadata": {},
   "outputs": [
    {
     "name": "stdout",
     "output_type": "stream",
     "text": [
      "Found 4 items\r\n",
      "-rw-r--r--   3 root supergroup     59.6 M 2022-04-25 19:16 /user/projeto_basico/dados/HIST_PAINEL_COVIDBR_2020_Parte1_06jul2021.csv\r\n",
      "-rw-r--r--   3 root supergroup     73.0 M 2022-04-25 19:16 /user/projeto_basico/dados/HIST_PAINEL_COVIDBR_2020_Parte2_06jul2021.csv\r\n",
      "-rw-r--r--   3 root supergroup     86.9 M 2022-04-25 19:17 /user/projeto_basico/dados/HIST_PAINEL_COVIDBR_2021_Parte1_06jul2021.csv\r\n",
      "-rw-r--r--   3 root supergroup      2.9 M 2022-04-25 19:17 /user/projeto_basico/dados/HIST_PAINEL_COVIDBR_2021_Parte2_06jul2021.csv\r\n"
     ]
    }
   ],
   "source": [
    "# Verificando a transferência \n",
    "\n",
    "!hdfs dfs -ls -h /user/projeto_basico/dados"
   ]
  },
  {
   "cell_type": "markdown",
   "metadata": {},
   "source": [
    "## Questão 2"
   ]
  },
  {
   "cell_type": "code",
   "execution_count": 3,
   "metadata": {},
   "outputs": [],
   "source": [
    "from pyspark.sql import SparkSession, Row\n",
    "from pyspark.sql.functions import *\n",
    "\n",
    "\n",
    "spark = SparkSession \\\n",
    "    .builder \\\n",
    "    .appName(\"Projeto Basico\") \\\n",
    "    .getOrCreate()"
   ]
  },
  {
   "cell_type": "code",
   "execution_count": 4,
   "metadata": {
    "scrolled": false
   },
   "outputs": [],
   "source": [
    "# Lendo os dados em .csv como DataFrame:\n",
    "\n",
    "df =  spark.read.csv(\"hdfs:///user/projeto_basico/dados/*.csv\", sep=\";\", header=True, inferSchema=True)"
   ]
  },
  {
   "cell_type": "code",
   "execution_count": 4,
   "metadata": {},
   "outputs": [
    {
     "name": "stdout",
     "output_type": "stream",
     "text": [
      "+------------+\n",
      "|databaseName|\n",
      "+------------+\n",
      "|     covidbr|\n",
      "|     default|\n",
      "+------------+\n",
      "\n"
     ]
    }
   ],
   "source": [
    "# Criando a database e verificando se existe\n",
    "\n",
    "spark.sql(\"CREATE DATABASE IF NOT EXISTS covidbr\")\n",
    "spark.sql(\"show databases\").show()"
   ]
  },
  {
   "cell_type": "code",
   "execution_count": null,
   "metadata": {},
   "outputs": [],
   "source": [
    "# Salvando o df no Hive e confirmando que a tabela foi salva:\n",
    "\n",
    "df_output = df.write.mode(\"overwrite\").partitionBy(\"municipio\").saveAsTable(\"covidbr.initial_table\")"
   ]
  },
  {
   "cell_type": "code",
   "execution_count": 11,
   "metadata": {},
   "outputs": [
    {
     "name": "stdout",
     "output_type": "stream",
     "text": [
      "-rw-r--r--   2 root supergroup          0 2022-04-23 23:23 /user/hive/warehouse/covidbr.db/initial_table/_SUCCESS\r\n"
     ]
    }
   ],
   "source": [
    "!hdfs dfs -ls -h /user/hive/warehouse/covidbr.db/initial_table/_SUCCESS"
   ]
  },
  {
   "cell_type": "code",
   "execution_count": 12,
   "metadata": {},
   "outputs": [
    {
     "name": "stdout",
     "output_type": "stream",
     "text": [
      "+--------+-------------+-----------+\n",
      "|database|    tableName|isTemporary|\n",
      "+--------+-------------+-----------+\n",
      "| covidbr|initial_table|      false|\n",
      "+--------+-------------+-----------+\n",
      "\n"
     ]
    }
   ],
   "source": [
    "spark.sql(\"use covidbr\")\n",
    "spark.sql(\"show tables\").show()"
   ]
  },
  {
   "cell_type": "code",
   "execution_count": 15,
   "metadata": {},
   "outputs": [
    {
     "name": "stdout",
     "output_type": "stream",
     "text": [
      "root\n",
      " |-- regiao: string (nullable = true)\n",
      " |-- estado: string (nullable = true)\n",
      " |-- municipio: string (nullable = true)\n",
      " |-- coduf: integer (nullable = true)\n",
      " |-- codmun: integer (nullable = true)\n",
      " |-- codRegiaoSaude: integer (nullable = true)\n",
      " |-- nomeRegiaoSaude: string (nullable = true)\n",
      " |-- data: timestamp (nullable = true)\n",
      " |-- semanaEpi: integer (nullable = true)\n",
      " |-- populacaoTCU2019: integer (nullable = true)\n",
      " |-- casosAcumulado: decimal(10,0) (nullable = true)\n",
      " |-- casosNovos: integer (nullable = true)\n",
      " |-- obitosAcumulado: integer (nullable = true)\n",
      " |-- obitosNovos: integer (nullable = true)\n",
      " |-- Recuperadosnovos: integer (nullable = true)\n",
      " |-- emAcompanhamentoNovos: integer (nullable = true)\n",
      " |-- interior/metropolitana: integer (nullable = true)\n",
      "\n"
     ]
    }
   ],
   "source": [
    "df.printSchema()"
   ]
  },
  {
   "cell_type": "code",
   "execution_count": 5,
   "metadata": {
    "scrolled": true
   },
   "outputs": [
    {
     "name": "stdout",
     "output_type": "stream",
     "text": [
      "+------+------+---------+-----+------+--------------+---------------+-------------------+---------+----------------+--------------+----------+---------------+-----------+----------------+---------------------+----------------------+\n",
      "|regiao|estado|municipio|coduf|codmun|codRegiaoSaude|nomeRegiaoSaude|               data|semanaEpi|populacaoTCU2019|casosAcumulado|casosNovos|obitosAcumulado|obitosNovos|Recuperadosnovos|emAcompanhamentoNovos|interior/metropolitana|\n",
      "+------+------+---------+-----+------+--------------+---------------+-------------------+---------+----------------+--------------+----------+---------------+-----------+----------------+---------------------+----------------------+\n",
      "|Brasil|  null|     null|   76|  null|          null|           null|2020-02-25 00:00:00|        9|       210147125|             0|         0|              0|          0|            null|                 null|                  null|\n",
      "|Brasil|  null|     null|   76|  null|          null|           null|2020-02-26 00:00:00|        9|       210147125|             1|         1|              0|          0|            null|                 null|                  null|\n",
      "|Brasil|  null|     null|   76|  null|          null|           null|2020-02-27 00:00:00|        9|       210147125|             1|         0|              0|          0|            null|                 null|                  null|\n",
      "|Brasil|  null|     null|   76|  null|          null|           null|2020-02-28 00:00:00|        9|       210147125|             1|         0|              0|          0|            null|                 null|                  null|\n",
      "|Brasil|  null|     null|   76|  null|          null|           null|2020-02-29 00:00:00|        9|       210147125|             2|         1|              0|          0|            null|                 null|                  null|\n",
      "+------+------+---------+-----+------+--------------+---------------+-------------------+---------+----------------+--------------+----------+---------------+-----------+----------------+---------------------+----------------------+\n",
      "only showing top 5 rows\n",
      "\n"
     ]
    }
   ],
   "source": [
    "df.show(5)"
   ]
  },
  {
   "cell_type": "markdown",
   "metadata": {},
   "source": [
    "## Questão 3"
   ]
  },
  {
   "cell_type": "code",
   "execution_count": 6,
   "metadata": {
    "scrolled": true
   },
   "outputs": [],
   "source": [
    "# Criando um dataframe para trabalhar as visualizações:\n",
    "\n",
    "df_visualizacao = df.select(\"regiao\", \"data\", \"municipio\", \"populacaoTCU2019\", \"casosAcumulado\", \"casosNovos\",\\\n",
    "                            \"obitosAcumulado\", \"obitosNovos\", \"Recuperadosnovos\", \"emAcompanhamentoNovos\")"
   ]
  },
  {
   "cell_type": "code",
   "execution_count": 7,
   "metadata": {},
   "outputs": [
    {
     "name": "stdout",
     "output_type": "stream",
     "text": [
      "+------+-------------------+---------+----------------+--------------+----------+---------------+-----------+----------------+---------------------+\n",
      "|regiao|               data|municipio|populacaoTCU2019|casosAcumulado|casosNovos|obitosAcumulado|obitosNovos|Recuperadosnovos|emAcompanhamentoNovos|\n",
      "+------+-------------------+---------+----------------+--------------+----------+---------------+-----------+----------------+---------------------+\n",
      "|Brasil|2020-02-25 00:00:00|     null|       210147125|             0|         0|              0|          0|            null|                 null|\n",
      "|Brasil|2020-02-26 00:00:00|     null|       210147125|             1|         1|              0|          0|            null|                 null|\n",
      "|Brasil|2020-02-27 00:00:00|     null|       210147125|             1|         0|              0|          0|            null|                 null|\n",
      "|Brasil|2020-02-28 00:00:00|     null|       210147125|             1|         0|              0|          0|            null|                 null|\n",
      "|Brasil|2020-02-29 00:00:00|     null|       210147125|             2|         1|              0|          0|            null|                 null|\n",
      "+------+-------------------+---------+----------------+--------------+----------+---------------+-----------+----------------+---------------------+\n",
      "only showing top 5 rows\n",
      "\n"
     ]
    }
   ],
   "source": [
    "df_visualizacao.show(5)"
   ]
  },
  {
   "cell_type": "code",
   "execution_count": 6,
   "metadata": {},
   "outputs": [],
   "source": [
    "# Criando uma variável para retornar a data mais recente da tabela:\n",
    "\n",
    "data_max_conv_unix =  df_visualizacao.select(max(\"data\")).\\\n",
    "                       withColumn(\"unix_time\", unix_timestamp(col(\"max(data)\"),\"yyyy-MM-dd HH:mm:ss\"))\n",
    "\n",
    "data_max_conv_data = data_max_conv_unix.withColumn(\"data\", from_unixtime(\"unix_time\", \"yyyy-MM-dd\"))\n",
    "\n",
    "data_max = data_max_conv_data.select(\"data\").collect()[0][0]"
   ]
  },
  {
   "cell_type": "code",
   "execution_count": 17,
   "metadata": {},
   "outputs": [
    {
     "name": "stdout",
     "output_type": "stream",
     "text": [
      "2021-07-06\n"
     ]
    }
   ],
   "source": [
    "print(data_max)"
   ]
  },
  {
   "cell_type": "code",
   "execution_count": 7,
   "metadata": {},
   "outputs": [],
   "source": [
    "#Visualização 1 - Casos Recuperados e em Acompanhamento:\n",
    "\n",
    "df_vis_1 = df_visualizacao.select(\n",
    "                       format_number(col(\"Recuperadosnovos\"),0).alias(\"Casos_Recuperados\"),\n",
    "                       format_number(col(\"emAcompanhamentoNovos\"),0).alias(\"Em_Acompanhamento\")\n",
    "                       ).filter((col(\"data\") == data_max) & (col(\"regiao\") == \"Brasil\"))"
   ]
  },
  {
   "cell_type": "code",
   "execution_count": 24,
   "metadata": {},
   "outputs": [
    {
     "name": "stdout",
     "output_type": "stream",
     "text": [
      "+-----------------+-----------------+\n",
      "|Casos_Recuperados|Em_Acompanhamento|\n",
      "+-----------------+-----------------+\n",
      "|       17,262,646|        1,065,477|\n",
      "+-----------------+-----------------+\n",
      "\n"
     ]
    }
   ],
   "source": [
    "df_vis_1.show()"
   ]
  },
  {
   "cell_type": "code",
   "execution_count": 8,
   "metadata": {},
   "outputs": [],
   "source": [
    "# Visualização 2 - CASOS CONFIRMADOS (Acumulados, Novos e Incidência/100.000 Habitantes):\n",
    "\n",
    "df_vis_2 = df_visualizacao.select(\n",
    "                        format_number(col(\"casosAcumulado\"), 0).alias(\"Casos_Acumulados\"),\n",
    "                        format_number(col(\"casosNovos\"),0).alias(\"Casos_Novos\"),\n",
    "                        format_number((col(\"casosAcumulado\")/col(\"populacaoTCU2019\")*100000),1).alias(\"Incidência\")\n",
    "                        ).filter((col(\"data\") == data_max) & (col(\"regiao\") == \"Brasil\"))"
   ]
  },
  {
   "cell_type": "code",
   "execution_count": 23,
   "metadata": {},
   "outputs": [
    {
     "name": "stdout",
     "output_type": "stream",
     "text": [
      "+----------------+-----------+----------+\n",
      "|Casos_Acumulados|Casos_Novos|Incidência|\n",
      "+----------------+-----------+----------+\n",
      "|      18,855,015|     62,504|   8,972.3|\n",
      "+----------------+-----------+----------+\n",
      "\n"
     ]
    }
   ],
   "source": [
    "df_vis_2.show()"
   ]
  },
  {
   "cell_type": "code",
   "execution_count": 9,
   "metadata": {},
   "outputs": [],
   "source": [
    "# Visualização 3 - ÓBITOS CONFIRMADOS (Acumulados, Novos, Letalidade e Mortalidade):\n",
    "\n",
    "df_vis_3 = df_visualizacao.select(\n",
    "                        format_number(col(\"obitosAcumulado\"), 0).alias(\"Óbitos_Acumulados\"),\n",
    "                        format_number(col(\"obitosNovos\"),0).alias(\"Óbitos_Novos\"),\n",
    "                        format_number((col(\"obitosAcumulado\")/col(\"casosAcumulado\")*100),1).alias(\"Incidência_[%]\"),\n",
    "                        format_number((col(\"obitosAcumulado\")/col(\"populacaoTCU2019\")*100000),1).alias(\"Mortalidade\")\n",
    "                        ).filter((col(\"data\") == data_max) & (col(\"regiao\") == \"Brasil\"))"
   ]
  },
  {
   "cell_type": "code",
   "execution_count": 22,
   "metadata": {},
   "outputs": [
    {
     "name": "stdout",
     "output_type": "stream",
     "text": [
      "+-----------------+------------+--------------+-----------+\n",
      "|Óbitos_Acumulados|Óbitos_Novos|Incidência_[%]|Mortalidade|\n",
      "+-----------------+------------+--------------+-----------+\n",
      "|          526,892|       1,780|           2.8|      250.7|\n",
      "+-----------------+------------+--------------+-----------+\n",
      "\n"
     ]
    }
   ],
   "source": [
    "df_vis_3.show()"
   ]
  },
  {
   "cell_type": "markdown",
   "metadata": {},
   "source": [
    "## Questão 4"
   ]
  },
  {
   "cell_type": "code",
   "execution_count": 10,
   "metadata": {},
   "outputs": [],
   "source": [
    "# Salvando a primeira vizualização como tabela Hive:\n",
    "\n",
    "output_tabela_hive = df_vis_1.write.mode(\"overwrite\").saveAsTable(\"covidbr.visualizacao1\")"
   ]
  },
  {
   "cell_type": "code",
   "execution_count": 13,
   "metadata": {
    "scrolled": true
   },
   "outputs": [
    {
     "name": "stdout",
     "output_type": "stream",
     "text": [
      "+--------+-------------+-----------+\n",
      "|database|    tableName|isTemporary|\n",
      "+--------+-------------+-----------+\n",
      "| covidbr|initial_table|      false|\n",
      "| covidbr|visualizacao1|      false|\n",
      "+--------+-------------+-----------+\n",
      "\n",
      "+-----------------+-----------------+\n",
      "|Casos_Recuperados|Em_Acompanhamento|\n",
      "+-----------------+-----------------+\n",
      "|       17,262,646|        1,065,477|\n",
      "+-----------------+-----------------+\n",
      "\n"
     ]
    }
   ],
   "source": [
    "# Verificando a tabela no Hive:\n",
    "\n",
    "spark.sql(\"use covidbr\")\n",
    "spark.sql(\"show tables\").show()\n",
    "spark.sql(\"select * from covidbr.visualizacao1\").show()"
   ]
  },
  {
   "cell_type": "markdown",
   "metadata": {},
   "source": [
    "## Questão 5"
   ]
  },
  {
   "cell_type": "code",
   "execution_count": null,
   "metadata": {},
   "outputs": [],
   "source": [
    "# Salvando a segunda vizualização em formato parquet e compressão snappy:\n",
    "\n",
    "output_tabela_casos_confirmados = df_vis_2.write.format(\"parquet\")\\\n",
    "                                .save(\"/user/projeto_basico/casos_confirmados\",compression=\"snappy\")"
   ]
  },
  {
   "cell_type": "code",
   "execution_count": 14,
   "metadata": {},
   "outputs": [
    {
     "name": "stdout",
     "output_type": "stream",
     "text": [
      "Found 2 items\r\n",
      "-rw-r--r--   2 root supergroup          0 2022-04-25 00:30 /user/projeto_basico/casos_confirmados/_SUCCESS\r\n",
      "-rw-r--r--   2 root supergroup       1003 2022-04-25 00:30 /user/projeto_basico/casos_confirmados/part-00000-daa4870d-db50-4bea-b78f-a7f9f4ddb1aa-c000.snappy.parquet\r\n"
     ]
    }
   ],
   "source": [
    "!hdfs dfs -ls /user/projeto_basico/casos_confirmados"
   ]
  },
  {
   "cell_type": "markdown",
   "metadata": {},
   "source": [
    "## Questão 6"
   ]
  },
  {
   "cell_type": "code",
   "execution_count": 15,
   "metadata": {},
   "outputs": [],
   "source": [
    "# Salvando a terceira vizualização em um tópico no kafka em formato json:\n",
    "\n",
    "\n",
    "output_tabela_obitos= df_vis_3.select(to_json(struct(\"*\")).alias(\"value\")).write\\\n",
    "                    .format(\"kafka\")\\\n",
    "                    .option(\"kafka.bootstrap.servers\", \"kafka:9092\")\\\n",
    "                    .option(\"topic\",\"obitos-confirmados\")\\\n",
    "                    .save()"
   ]
  },
  {
   "cell_type": "code",
   "execution_count": 16,
   "metadata": {
    "scrolled": true
   },
   "outputs": [
    {
     "name": "stdout",
     "output_type": "stream",
     "text": [
      "{\"Óbitos_Acumulados\":\"526,892\",\"Óbitos_Novos\":\"1,780\",\"Incidência_[%]\":\"2.8\",\"Mortalidade\":\"250.7\"}\n"
     ]
    }
   ],
   "source": [
    "# Verificando a gravação no tópico kafka:\n",
    "\n",
    "input_tabela_obitos = spark.read \\\n",
    "                    .format(\"kafka\") \\\n",
    "                    .option(\"kafka.bootstrap.servers\", \"kafka:9092\") \\\n",
    "                    .option(\"subscribe\", \"obitos-confirmados\") \\\n",
    "                    .load()\n",
    "\n",
    "print(input_tabela_obitos.selectExpr(\"CAST(last(value) AS string)\").collect()[0][0])"
   ]
  },
  {
   "cell_type": "markdown",
   "metadata": {},
   "source": [
    "## Questão 7"
   ]
  },
  {
   "cell_type": "code",
   "execution_count": 18,
   "metadata": {},
   "outputs": [],
   "source": [
    "# Criando a visualização dos dados enviados ao HDFS:\n",
    "\n",
    "df_vis_4 =  df_visualizacao.select(\n",
    "                        col('regiao').alias(\"Regiões\"),\\\n",
    "                        col(\"populacaoTCU2019\"),\n",
    "                        col('municipio').cast(\"string\").alias(\"cidade\"),\\\n",
    "                        col(\"obitosAcumulado\").alias(\"Óbitos_Acumulados\"),\\\n",
    "                        col(\"casosAcumulado\").alias(\"Casos_Acumulados\"),\\\n",
    "                        col(\"data\").alias(\"Atualização\")\\\n",
    "                                    ).dropna(subset=[\"populacaoTCU2019\"]).\\\n",
    "                                    sort(desc(\"obitosAcumulado\")).\\\n",
    "                                    filter((col(\"data\") == data_max) & (col(\"cidade\").isNull()))"
   ]
  },
  {
   "cell_type": "code",
   "execution_count": 19,
   "metadata": {},
   "outputs": [
    {
     "name": "stdout",
     "output_type": "stream",
     "text": [
      "+-------+----------------+------+-----------------+----------------+-------------------+\n",
      "|Regiões|populacaoTCU2019|cidade|Óbitos_Acumulados|Casos_Acumulados|        Atualização|\n",
      "+-------+----------------+------+-----------------+----------------+-------------------+\n",
      "| Brasil|       210147125|  null|           526892|        18855015|2021-07-06 00:00:00|\n",
      "|Sudeste|        45919049|  null|           130389|         3809222|2021-07-06 00:00:00|\n",
      "|Sudeste|        17264943|  null|            56192|          970268|2021-07-06 00:00:00|\n",
      "|Sudeste|        21168791|  null|            47148|         1836198|2021-07-06 00:00:00|\n",
      "|    Sul|        11377239|  null|            31867|         1235914|2021-07-06 00:00:00|\n",
      "+-------+----------------+------+-----------------+----------------+-------------------+\n",
      "only showing top 5 rows\n",
      "\n"
     ]
    }
   ],
   "source": [
    "df_vis_4.show(5)"
   ]
  },
  {
   "cell_type": "code",
   "execution_count": 20,
   "metadata": {},
   "outputs": [],
   "source": [
    "# Após filtrar valores repetidos da tabela do HDFS, montado a tabela da visualização 4:\n",
    "\n",
    "df_final_vis_4 = df_vis_4.groupBy(\"Regiões\").agg(\n",
    "                        format_number(sum(\"Casos_Acumulados\"),0).alias(\"Casos_Acumulados\"),    \n",
    "                        format_number(sum(\"Óbitos_Acumulados\"), 0).alias(\"Óbitos_Acumulados\"),\n",
    "                        format_number((sum(\"Óbitos_Acumulados\")/sum(\"Casos_Acumulados\")*100),1).alias(\"Incidência_[%]\"),\n",
    "                        format_number((sum(\"Óbitos_Acumulados\")/sum(\"populacaoTCU2019\")*100000),1).alias(\"Mortalidade\"),\n",
    "                        date_format(max(\"Atualização\"), \"dd/MM/yyyy hh:mm\").alias(\"Atualização\")                           \n",
    "                                           ).sort(\"Regiões\")"
   ]
  },
  {
   "cell_type": "code",
   "execution_count": 21,
   "metadata": {},
   "outputs": [
    {
     "name": "stdout",
     "output_type": "stream",
     "text": [
      "+------------+----------------+-----------------+--------------+-----------+----------------+\n",
      "|     Regiões|Casos_Acumulados|Óbitos_Acumulados|Incidência_[%]|Mortalidade|     Atualização|\n",
      "+------------+----------------+-----------------+--------------+-----------+----------------+\n",
      "|      Brasil|      18,855,015|          526,892|           2.8|      250.7|06/07/2021 12:00|\n",
      "|Centro-Oeste|       1,916,619|           49,207|           2.6|      301.9|06/07/2021 12:00|\n",
      "|    Nordeste|       4,455,737|          107,824|           2.4|      188.9|06/07/2021 12:00|\n",
      "|       Norte|       1,732,815|           43,845|           2.5|      237.9|06/07/2021 12:00|\n",
      "|     Sudeste|       7,138,803|          245,311|           3.4|      277.6|06/07/2021 12:00|\n",
      "|         Sul|       3,611,041|           80,705|           2.2|      269.2|06/07/2021 12:00|\n",
      "+------------+----------------+-----------------+--------------+-----------+----------------+\n",
      "\n"
     ]
    }
   ],
   "source": [
    "df_final_vis_4.show()"
   ]
  }
 ],
 "metadata": {
  "kernelspec": {
   "display_name": "PySpark",
   "language": "python",
   "name": "pyspark"
  },
  "language_info": {
   "codemirror_mode": {
    "name": "ipython",
    "version": 3
   },
   "file_extension": ".py",
   "mimetype": "text/x-python",
   "name": "python",
   "nbconvert_exporter": "python",
   "pygments_lexer": "ipython3",
   "version": "3.6.10"
  }
 },
 "nbformat": 4,
 "nbformat_minor": 2
}
