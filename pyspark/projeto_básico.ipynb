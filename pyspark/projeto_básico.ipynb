{
 "cells": [
  {
   "cell_type": "markdown",
   "metadata": {},
   "source": [
    "## Questão 1"
   ]
  },
  {
   "cell_type": "code",
   "execution_count": null,
   "metadata": {},
   "outputs": [],
   "source": [
    "# Criando o diretório no HDFS:\n",
    "\n",
    "!hdfs dfs -mkdir -p /user/projeto_basico/dados "
   ]
  },
  {
   "cell_type": "code",
   "execution_count": null,
   "metadata": {},
   "outputs": [],
   "source": [
    "# Transferindo os arquivos da pasta local para o HDFS:\n",
    "\n",
    "!hdfs dfs -put /input/*.csv /user/projeto_basico/dados\n"
   ]
  },
  {
   "cell_type": "markdown",
   "metadata": {},
   "source": [
    "## Questão 2"
   ]
  },
  {
   "cell_type": "code",
   "execution_count": 2,
   "metadata": {},
   "outputs": [],
   "source": [
    "from pyspark.sql import SparkSession, Row\n",
    "from pyspark.sql.functions import *\n",
    "\n",
    "\n",
    "spark = SparkSession \\\n",
    "    .builder \\\n",
    "    .appName(\"Projeto Basico\") \\\n",
    "    .getOrCreate()"
   ]
  },
  {
   "cell_type": "code",
   "execution_count": 3,
   "metadata": {
    "scrolled": false
   },
   "outputs": [],
   "source": [
    "# Lendo os dados em .csv como DataFrame:\n",
    "\n",
    "df = spark.read.csv(\"hdfs:///user/projeto_basico/dados/*.csv\", sep=\";\", header=True, inferSchema=True)"
   ]
  },
  {
   "cell_type": "code",
   "execution_count": null,
   "metadata": {},
   "outputs": [],
   "source": [
    "# Criando a database e verificando se existe\n",
    "\n",
    "spark.sql(\"CREATE DATABASE IF NOT EXISTS covidbr\")\n",
    "spark.sql(\"show databases\").show()"
   ]
  },
  {
   "cell_type": "code",
   "execution_count": null,
   "metadata": {},
   "outputs": [],
   "source": [
    "# Salvando o df no Hive e confirmando que a tabela foi salva:\n",
    "\n",
    "df_output = df.write.mode(\"overwrite\").partitionBy(\"municipio\").saveAsTable(\"covidbr.initial_table\")\n",
    "!hdfs dfs -ls -h /user/hive/warehouse/covidbr.db/initial_table"
   ]
  },
  {
   "cell_type": "code",
   "execution_count": 4,
   "metadata": {},
   "outputs": [
    {
     "name": "stdout",
     "output_type": "stream",
     "text": [
      "+--------+-------------+-----------+\n",
      "|database|    tableName|isTemporary|\n",
      "+--------+-------------+-----------+\n",
      "| covidbr|initial_table|      false|\n",
      "| covidbr|visualizacao1|      false|\n",
      "| covidbr|visualizacao3|      false|\n",
      "+--------+-------------+-----------+\n",
      "\n"
     ]
    }
   ],
   "source": [
    "# Verificando novamente a tabela criada\n",
    "\n",
    "spark.sql(\"use covidbr\")\n",
    "spark.sql(\"show tables\").show()"
   ]
  },
  {
   "cell_type": "code",
   "execution_count": 5,
   "metadata": {},
   "outputs": [
    {
     "data": {
      "text/html": [
       "<div>\n",
       "<style scoped>\n",
       "    .dataframe tbody tr th:only-of-type {\n",
       "        vertical-align: middle;\n",
       "    }\n",
       "\n",
       "    .dataframe tbody tr th {\n",
       "        vertical-align: top;\n",
       "    }\n",
       "\n",
       "    .dataframe thead th {\n",
       "        text-align: right;\n",
       "    }\n",
       "</style>\n",
       "<table border=\"1\" class=\"dataframe\">\n",
       "  <thead>\n",
       "    <tr style=\"text-align: right;\">\n",
       "      <th></th>\n",
       "      <th>regiao</th>\n",
       "      <th>estado</th>\n",
       "      <th>municipio</th>\n",
       "      <th>coduf</th>\n",
       "      <th>codmun</th>\n",
       "      <th>codRegiaoSaude</th>\n",
       "      <th>nomeRegiaoSaude</th>\n",
       "      <th>data</th>\n",
       "      <th>semanaEpi</th>\n",
       "      <th>populacaoTCU2019</th>\n",
       "      <th>casosAcumulado</th>\n",
       "      <th>casosNovos</th>\n",
       "      <th>obitosAcumulado</th>\n",
       "      <th>obitosNovos</th>\n",
       "      <th>Recuperadosnovos</th>\n",
       "      <th>emAcompanhamentoNovos</th>\n",
       "      <th>interior/metropolitana</th>\n",
       "    </tr>\n",
       "  </thead>\n",
       "  <tbody>\n",
       "    <tr>\n",
       "      <th>0</th>\n",
       "      <td>Brasil</td>\n",
       "      <td>None</td>\n",
       "      <td>None</td>\n",
       "      <td>76</td>\n",
       "      <td>NaN</td>\n",
       "      <td>NaN</td>\n",
       "      <td>None</td>\n",
       "      <td>2021-07-01</td>\n",
       "      <td>26</td>\n",
       "      <td>210147125.0</td>\n",
       "      <td>18622304</td>\n",
       "      <td>65163</td>\n",
       "      <td>520095</td>\n",
       "      <td>2029</td>\n",
       "      <td>16931272.0</td>\n",
       "      <td>1170937.0</td>\n",
       "      <td>NaN</td>\n",
       "    </tr>\n",
       "    <tr>\n",
       "      <th>1</th>\n",
       "      <td>Brasil</td>\n",
       "      <td>None</td>\n",
       "      <td>None</td>\n",
       "      <td>76</td>\n",
       "      <td>NaN</td>\n",
       "      <td>NaN</td>\n",
       "      <td>None</td>\n",
       "      <td>2021-07-02</td>\n",
       "      <td>26</td>\n",
       "      <td>210147125.0</td>\n",
       "      <td>18687469</td>\n",
       "      <td>65165</td>\n",
       "      <td>521952</td>\n",
       "      <td>1857</td>\n",
       "      <td>16989351.0</td>\n",
       "      <td>1176166.0</td>\n",
       "      <td>NaN</td>\n",
       "    </tr>\n",
       "    <tr>\n",
       "      <th>2</th>\n",
       "      <td>Brasil</td>\n",
       "      <td>None</td>\n",
       "      <td>None</td>\n",
       "      <td>76</td>\n",
       "      <td>NaN</td>\n",
       "      <td>NaN</td>\n",
       "      <td>None</td>\n",
       "      <td>2021-07-03</td>\n",
       "      <td>26</td>\n",
       "      <td>210147125.0</td>\n",
       "      <td>18742025</td>\n",
       "      <td>54556</td>\n",
       "      <td>523587</td>\n",
       "      <td>1635</td>\n",
       "      <td>17033808.0</td>\n",
       "      <td>1184630.0</td>\n",
       "      <td>NaN</td>\n",
       "    </tr>\n",
       "    <tr>\n",
       "      <th>3</th>\n",
       "      <td>Brasil</td>\n",
       "      <td>None</td>\n",
       "      <td>None</td>\n",
       "      <td>76</td>\n",
       "      <td>NaN</td>\n",
       "      <td>NaN</td>\n",
       "      <td>None</td>\n",
       "      <td>2021-07-04</td>\n",
       "      <td>27</td>\n",
       "      <td>210147125.0</td>\n",
       "      <td>18769808</td>\n",
       "      <td>27783</td>\n",
       "      <td>524417</td>\n",
       "      <td>830</td>\n",
       "      <td>17082876.0</td>\n",
       "      <td>1162515.0</td>\n",
       "      <td>NaN</td>\n",
       "    </tr>\n",
       "    <tr>\n",
       "      <th>4</th>\n",
       "      <td>Brasil</td>\n",
       "      <td>None</td>\n",
       "      <td>None</td>\n",
       "      <td>76</td>\n",
       "      <td>NaN</td>\n",
       "      <td>NaN</td>\n",
       "      <td>None</td>\n",
       "      <td>2021-07-05</td>\n",
       "      <td>27</td>\n",
       "      <td>210147125.0</td>\n",
       "      <td>18792511</td>\n",
       "      <td>22703</td>\n",
       "      <td>525112</td>\n",
       "      <td>695</td>\n",
       "      <td>17151673.0</td>\n",
       "      <td>1115726.0</td>\n",
       "      <td>NaN</td>\n",
       "    </tr>\n",
       "    <tr>\n",
       "      <th>...</th>\n",
       "      <td>...</td>\n",
       "      <td>...</td>\n",
       "      <td>...</td>\n",
       "      <td>...</td>\n",
       "      <td>...</td>\n",
       "      <td>...</td>\n",
       "      <td>...</td>\n",
       "      <td>...</td>\n",
       "      <td>...</td>\n",
       "      <td>...</td>\n",
       "      <td>...</td>\n",
       "      <td>...</td>\n",
       "      <td>...</td>\n",
       "      <td>...</td>\n",
       "      <td>...</td>\n",
       "      <td>...</td>\n",
       "      <td>...</td>\n",
       "    </tr>\n",
       "    <tr>\n",
       "      <th>33709</th>\n",
       "      <td>Centro-Oeste</td>\n",
       "      <td>DF</td>\n",
       "      <td>Brasília</td>\n",
       "      <td>53</td>\n",
       "      <td>530010.0</td>\n",
       "      <td>53001.0</td>\n",
       "      <td>DISTRITO FEDERAL</td>\n",
       "      <td>2021-07-02</td>\n",
       "      <td>26</td>\n",
       "      <td>3015268.0</td>\n",
       "      <td>431771</td>\n",
       "      <td>620</td>\n",
       "      <td>9276</td>\n",
       "      <td>12</td>\n",
       "      <td>NaN</td>\n",
       "      <td>NaN</td>\n",
       "      <td>1.0</td>\n",
       "    </tr>\n",
       "    <tr>\n",
       "      <th>33710</th>\n",
       "      <td>Centro-Oeste</td>\n",
       "      <td>DF</td>\n",
       "      <td>Brasília</td>\n",
       "      <td>53</td>\n",
       "      <td>530010.0</td>\n",
       "      <td>53001.0</td>\n",
       "      <td>DISTRITO FEDERAL</td>\n",
       "      <td>2021-07-03</td>\n",
       "      <td>26</td>\n",
       "      <td>3015268.0</td>\n",
       "      <td>432492</td>\n",
       "      <td>721</td>\n",
       "      <td>9289</td>\n",
       "      <td>13</td>\n",
       "      <td>NaN</td>\n",
       "      <td>NaN</td>\n",
       "      <td>1.0</td>\n",
       "    </tr>\n",
       "    <tr>\n",
       "      <th>33711</th>\n",
       "      <td>Centro-Oeste</td>\n",
       "      <td>DF</td>\n",
       "      <td>Brasília</td>\n",
       "      <td>53</td>\n",
       "      <td>530010.0</td>\n",
       "      <td>53001.0</td>\n",
       "      <td>DISTRITO FEDERAL</td>\n",
       "      <td>2021-07-04</td>\n",
       "      <td>27</td>\n",
       "      <td>3015268.0</td>\n",
       "      <td>433505</td>\n",
       "      <td>1013</td>\n",
       "      <td>9304</td>\n",
       "      <td>15</td>\n",
       "      <td>NaN</td>\n",
       "      <td>NaN</td>\n",
       "      <td>1.0</td>\n",
       "    </tr>\n",
       "    <tr>\n",
       "      <th>33712</th>\n",
       "      <td>Centro-Oeste</td>\n",
       "      <td>DF</td>\n",
       "      <td>Brasília</td>\n",
       "      <td>53</td>\n",
       "      <td>530010.0</td>\n",
       "      <td>53001.0</td>\n",
       "      <td>DISTRITO FEDERAL</td>\n",
       "      <td>2021-07-05</td>\n",
       "      <td>27</td>\n",
       "      <td>3015268.0</td>\n",
       "      <td>434114</td>\n",
       "      <td>609</td>\n",
       "      <td>9312</td>\n",
       "      <td>8</td>\n",
       "      <td>NaN</td>\n",
       "      <td>NaN</td>\n",
       "      <td>1.0</td>\n",
       "    </tr>\n",
       "    <tr>\n",
       "      <th>33713</th>\n",
       "      <td>Centro-Oeste</td>\n",
       "      <td>DF</td>\n",
       "      <td>Brasília</td>\n",
       "      <td>53</td>\n",
       "      <td>530010.0</td>\n",
       "      <td>53001.0</td>\n",
       "      <td>DISTRITO FEDERAL</td>\n",
       "      <td>2021-07-06</td>\n",
       "      <td>27</td>\n",
       "      <td>3015268.0</td>\n",
       "      <td>434708</td>\n",
       "      <td>594</td>\n",
       "      <td>9322</td>\n",
       "      <td>10</td>\n",
       "      <td>NaN</td>\n",
       "      <td>NaN</td>\n",
       "      <td>1.0</td>\n",
       "    </tr>\n",
       "  </tbody>\n",
       "</table>\n",
       "<p>33714 rows × 17 columns</p>\n",
       "</div>"
      ],
      "text/plain": [
       "             regiao estado municipio  coduf    codmun  codRegiaoSaude  \\\n",
       "0            Brasil   None      None     76       NaN             NaN   \n",
       "1            Brasil   None      None     76       NaN             NaN   \n",
       "2            Brasil   None      None     76       NaN             NaN   \n",
       "3            Brasil   None      None     76       NaN             NaN   \n",
       "4            Brasil   None      None     76       NaN             NaN   \n",
       "...             ...    ...       ...    ...       ...             ...   \n",
       "33709  Centro-Oeste     DF  Brasília     53  530010.0         53001.0   \n",
       "33710  Centro-Oeste     DF  Brasília     53  530010.0         53001.0   \n",
       "33711  Centro-Oeste     DF  Brasília     53  530010.0         53001.0   \n",
       "33712  Centro-Oeste     DF  Brasília     53  530010.0         53001.0   \n",
       "33713  Centro-Oeste     DF  Brasília     53  530010.0         53001.0   \n",
       "\n",
       "        nomeRegiaoSaude       data  semanaEpi  populacaoTCU2019  \\\n",
       "0                  None 2021-07-01         26       210147125.0   \n",
       "1                  None 2021-07-02         26       210147125.0   \n",
       "2                  None 2021-07-03         26       210147125.0   \n",
       "3                  None 2021-07-04         27       210147125.0   \n",
       "4                  None 2021-07-05         27       210147125.0   \n",
       "...                 ...        ...        ...               ...   \n",
       "33709  DISTRITO FEDERAL 2021-07-02         26         3015268.0   \n",
       "33710  DISTRITO FEDERAL 2021-07-03         26         3015268.0   \n",
       "33711  DISTRITO FEDERAL 2021-07-04         27         3015268.0   \n",
       "33712  DISTRITO FEDERAL 2021-07-05         27         3015268.0   \n",
       "33713  DISTRITO FEDERAL 2021-07-06         27         3015268.0   \n",
       "\n",
       "       casosAcumulado  casosNovos  obitosAcumulado  obitosNovos  \\\n",
       "0            18622304       65163           520095         2029   \n",
       "1            18687469       65165           521952         1857   \n",
       "2            18742025       54556           523587         1635   \n",
       "3            18769808       27783           524417          830   \n",
       "4            18792511       22703           525112          695   \n",
       "...               ...         ...              ...          ...   \n",
       "33709          431771         620             9276           12   \n",
       "33710          432492         721             9289           13   \n",
       "33711          433505        1013             9304           15   \n",
       "33712          434114         609             9312            8   \n",
       "33713          434708         594             9322           10   \n",
       "\n",
       "       Recuperadosnovos  emAcompanhamentoNovos  interior/metropolitana  \n",
       "0            16931272.0              1170937.0                     NaN  \n",
       "1            16989351.0              1176166.0                     NaN  \n",
       "2            17033808.0              1184630.0                     NaN  \n",
       "3            17082876.0              1162515.0                     NaN  \n",
       "4            17151673.0              1115726.0                     NaN  \n",
       "...                 ...                    ...                     ...  \n",
       "33709               NaN                    NaN                     1.0  \n",
       "33710               NaN                    NaN                     1.0  \n",
       "33711               NaN                    NaN                     1.0  \n",
       "33712               NaN                    NaN                     1.0  \n",
       "33713               NaN                    NaN                     1.0  \n",
       "\n",
       "[33714 rows x 17 columns]"
      ]
     },
     "execution_count": 5,
     "metadata": {},
     "output_type": "execute_result"
    }
   ],
   "source": [
    "df.toPandas()"
   ]
  },
  {
   "cell_type": "markdown",
   "metadata": {},
   "source": [
    "## Questão 3"
   ]
  },
  {
   "cell_type": "code",
   "execution_count": 14,
   "metadata": {
    "scrolled": true
   },
   "outputs": [],
   "source": [
    "# Criando um dataframe para trabalhar as visualizações:\n",
    "\n",
    "df_visualizacao = df.select(\"regiao\", \"data\",\"municipio\", \"populacaoTCU2019\", \"casosAcumulado\", \"casosNovos\",\\\n",
    "                            \"obitosAcumulado\", \"obitosNovos\", \"Recuperadosnovos\", \"emAcompanhamentoNovos\")\n"
   ]
  },
  {
   "cell_type": "code",
   "execution_count": 8,
   "metadata": {
    "collapsed": true
   },
   "outputs": [
    {
     "name": "stdout",
     "output_type": "stream",
     "text": [
      "+------+-------------------+----------------+--------------+----------+---------------+-----------+----------------+---------------------+\n",
      "|regiao|               data|populacaoTCU2019|casosAcumulado|casosNovos|obitosAcumulado|obitosNovos|Recuperadosnovos|emAcompanhamentoNovos|\n",
      "+------+-------------------+----------------+--------------+----------+---------------+-----------+----------------+---------------------+\n",
      "|Brasil|2020-02-25 00:00:00|       210147125|             0|         0|              0|          0|            null|                 null|\n",
      "|Brasil|2020-02-26 00:00:00|       210147125|             1|         1|              0|          0|            null|                 null|\n",
      "|Brasil|2020-02-27 00:00:00|       210147125|             1|         0|              0|          0|            null|                 null|\n",
      "|Brasil|2020-02-28 00:00:00|       210147125|             1|         0|              0|          0|            null|                 null|\n",
      "|Brasil|2020-02-29 00:00:00|       210147125|             2|         1|              0|          0|            null|                 null|\n",
      "|Brasil|2020-03-01 00:00:00|       210147125|             2|         0|              0|          0|            null|                 null|\n",
      "|Brasil|2020-03-02 00:00:00|       210147125|             2|         0|              0|          0|            null|                 null|\n",
      "|Brasil|2020-03-03 00:00:00|       210147125|             2|         0|              0|          0|            null|                 null|\n",
      "|Brasil|2020-03-04 00:00:00|       210147125|             3|         1|              0|          0|            null|                 null|\n",
      "|Brasil|2020-03-05 00:00:00|       210147125|             7|         4|              0|          0|            null|                 null|\n",
      "|Brasil|2020-03-06 00:00:00|       210147125|            13|         6|              0|          0|            null|                 null|\n",
      "|Brasil|2020-03-07 00:00:00|       210147125|            19|         6|              0|          0|            null|                 null|\n",
      "|Brasil|2020-03-08 00:00:00|       210147125|            25|         6|              0|          0|            null|                 null|\n",
      "|Brasil|2020-03-09 00:00:00|       210147125|            25|         0|              0|          0|            null|                 null|\n",
      "|Brasil|2020-03-10 00:00:00|       210147125|            34|         9|              0|          0|            null|                 null|\n",
      "|Brasil|2020-03-11 00:00:00|       210147125|            52|        18|              0|          0|            null|                 null|\n",
      "|Brasil|2020-03-12 00:00:00|       210147125|            77|        25|              0|          0|            null|                 null|\n",
      "|Brasil|2020-03-13 00:00:00|       210147125|            98|        21|              0|          0|            null|                 null|\n",
      "|Brasil|2020-03-14 00:00:00|       210147125|           121|        23|              0|          0|            null|                 null|\n",
      "|Brasil|2020-03-15 00:00:00|       210147125|           200|        79|              0|          0|            null|                 null|\n",
      "+------+-------------------+----------------+--------------+----------+---------------+-----------+----------------+---------------------+\n",
      "only showing top 20 rows\n",
      "\n"
     ]
    }
   ],
   "source": [
    "df_visualizacao.show()"
   ]
  },
  {
   "cell_type": "code",
   "execution_count": 9,
   "metadata": {},
   "outputs": [
    {
     "name": "stdout",
     "output_type": "stream",
     "text": [
      "2021-07-06\n"
     ]
    }
   ],
   "source": [
    "# Criando uma variável para retornar a data máxima da tabela:\n",
    "\n",
    "data_max_conv_unix =  df_visualizacao.select(max(\"data\")).withColumn(\"unix_time\", unix_timestamp(col(\"max(data)\"),\"yyyy-MM-dd HH:mm:ss\"))\n",
    "\n",
    "data_max_conv_data = data_max_conv_unix.withColumn(\"data\", from_unixtime(\"unix_time\", \"yyyy-MM-dd\"))\n",
    "\n",
    "data_max = data_max_conv_data.select(\"data\").collect()[0][0]\n",
    "\n",
    "print(data_max)"
   ]
  },
  {
   "cell_type": "code",
   "execution_count": 10,
   "metadata": {},
   "outputs": [
    {
     "name": "stdout",
     "output_type": "stream",
     "text": [
      "+-----------------+-----------------+\n",
      "|Casos_Recuperados|Em_Acompanhamento|\n",
      "+-----------------+-----------------+\n",
      "|       17,262,646|        1,065,477|\n",
      "+-----------------+-----------------+\n",
      "\n"
     ]
    }
   ],
   "source": [
    "#Visualização 1 - Casos Recuperados e em Acompanhamento:\n",
    "\n",
    "df_vis_1 = df_visualizacao.select(\n",
    "                       format_number(col(\"Recuperadosnovos\"),0).alias(\"Casos_Recuperados\"),\n",
    "                       format_number(col(\"emAcompanhamentoNovos\"),0).alias(\"Em_Acompanhamento\")\n",
    "                       ).filter((col(\"data\") == data_max) & (col(\"regiao\") == \"Brasil\"))\n",
    "\n",
    "df_vis_1.show()"
   ]
  },
  {
   "cell_type": "code",
   "execution_count": 11,
   "metadata": {},
   "outputs": [
    {
     "name": "stdout",
     "output_type": "stream",
     "text": [
      "+----------------+-----------+----------+\n",
      "|Casos_Acumulados|Casos_Novos|Incidência|\n",
      "+----------------+-----------+----------+\n",
      "|      18,855,015|     62,504|   8,972.3|\n",
      "+----------------+-----------+----------+\n",
      "\n"
     ]
    }
   ],
   "source": [
    "# Visualização 2 - CASOS CONFIRMADOS (Acumulados, Novos e Incidência/100.000 Habitantes):\n",
    "\n",
    "df_vis_2 = df_visualizacao.select(\n",
    "                        format_number(col(\"casosAcumulado\"), 0).alias(\"Casos_Acumulados\"),\n",
    "                        format_number(col(\"casosNovos\"),0).alias(\"Casos_Novos\"),\n",
    "                        format_number((col(\"casosAcumulado\")/col(\"populacaoTCU2019\")*100000),1).alias(\"Incidência\")\n",
    "                        ).filter((col(\"data\") == data_max) & (col(\"regiao\") == \"Brasil\"))\n",
    "df_vis_2.show()"
   ]
  },
  {
   "cell_type": "code",
   "execution_count": 20,
   "metadata": {},
   "outputs": [
    {
     "name": "stdout",
     "output_type": "stream",
     "text": [
      "+-----------------+------------+--------------+-----------+\n",
      "|Óbitos_Acumulados|Óbitos_Novos|Incidência_[%]|Mortalidade|\n",
      "+-----------------+------------+--------------+-----------+\n",
      "|          526,892|       1,780|           2.8|      250.7|\n",
      "+-----------------+------------+--------------+-----------+\n",
      "\n"
     ]
    }
   ],
   "source": [
    "# Visualização 3 - ÓBITOS CONFIRMADOS (Acumulados, Novos, Letalidade e Mortalidade):\n",
    "\n",
    "df_vis_3 = df_visualizacao.select(\n",
    "                        format_number(col(\"obitosAcumulado\"), 0).alias(\"Óbitos_Acumulados\"),\n",
    "                        format_number(col(\"obitosNovos\"),0).alias(\"Óbitos_Novos\"),\n",
    "                        format_number((col(\"obitosAcumulado\")/col(\"casosAcumulado\")*100),1).alias(\"Incidência_[%]\"),\n",
    "                        format_number((col(\"obitosAcumulado\")/col(\"populacaoTCU2019\")*100000),1).alias(\"Mortalidade\")\n",
    "                        ).filter((col(\"data\") == data_max) & (col(\"regiao\") == \"Brasil\"))\n",
    "df_vis_3.show()"
   ]
  },
  {
   "cell_type": "markdown",
   "metadata": {},
   "source": [
    "## Questão 4"
   ]
  },
  {
   "cell_type": "code",
   "execution_count": 235,
   "metadata": {},
   "outputs": [],
   "source": [
    "# Salvando a primeira vizualização como tabela Hive:\n",
    "\n",
    "output_tabela_hive = df_vis_1.write.mode(\"overwrite\").saveAsTable(\"covidbr.visualizacao1\")"
   ]
  },
  {
   "cell_type": "code",
   "execution_count": 51,
   "metadata": {
    "scrolled": true
   },
   "outputs": [
    {
     "name": "stdout",
     "output_type": "stream",
     "text": [
      "+--------+-------------+-----------+\n",
      "|database|    tableName|isTemporary|\n",
      "+--------+-------------+-----------+\n",
      "| covidbr|initial_table|      false|\n",
      "| covidbr|visualizacao1|      false|\n",
      "| covidbr|visualizacao3|      false|\n",
      "+--------+-------------+-----------+\n",
      "\n",
      "+-----------------+-----------------+\n",
      "|Casos_Recuperados|Em_Acompanhamento|\n",
      "+-----------------+-----------------+\n",
      "|       17,262,646|        1,065,477|\n",
      "+-----------------+-----------------+\n",
      "\n"
     ]
    }
   ],
   "source": [
    "# Verificando a tabela no Hive:\n",
    "\n",
    "spark.sql(\"show tables\").show()\n",
    "\n",
    "spark.sql(\"select * from covidbr.visualizacao1\").show()"
   ]
  },
  {
   "cell_type": "markdown",
   "metadata": {},
   "source": [
    "## Questão 5"
   ]
  },
  {
   "cell_type": "code",
   "execution_count": 255,
   "metadata": {},
   "outputs": [],
   "source": [
    "# Salvando a segunda vizualização em formato parquet e compressão snappy:\n",
    "\n",
    "output_tabela_casos_confirmados = df_vis_2.write.format(\"parquet\")\\\n",
    "                                .save(\"/user/projeto_basico/casos_confirmados\",compression=\"snappy\")"
   ]
  },
  {
   "cell_type": "code",
   "execution_count": 258,
   "metadata": {},
   "outputs": [
    {
     "name": "stdout",
     "output_type": "stream",
     "text": [
      "Found 2 items\r\n",
      "-rw-r--r--   2 root supergroup          0 2022-04-25 00:30 /user/projeto_basico/casos_confirmados/_SUCCESS\r\n",
      "-rw-r--r--   2 root supergroup       1003 2022-04-25 00:30 /user/projeto_basico/casos_confirmados/part-00000-daa4870d-db50-4bea-b78f-a7f9f4ddb1aa-c000.snappy.parquet\r\n"
     ]
    }
   ],
   "source": [
    "!hdfs dfs -ls /user/projeto_basico/casos_confirmados"
   ]
  },
  {
   "cell_type": "markdown",
   "metadata": {},
   "source": [
    "## Questão 6"
   ]
  },
  {
   "cell_type": "code",
   "execution_count": 15,
   "metadata": {},
   "outputs": [],
   "source": [
    "# Salvando a terceira vizualização em um tópico no kafka em formato json:\n",
    "\n",
    "\n",
    "output_tabela_obitos= df_vis_3.select(to_json(struct(\"*\")).alias(\"value\")).write\\\n",
    "                    .format(\"kafka\")\\\n",
    "                    .option(\"kafka.bootstrap.servers\", \"kafka:9092\")\\\n",
    "                    .option(\"topic\",\"obitos-confirmados\")\\\n",
    "                    .save()"
   ]
  },
  {
   "cell_type": "code",
   "execution_count": 16,
   "metadata": {
    "scrolled": true
   },
   "outputs": [
    {
     "name": "stdout",
     "output_type": "stream",
     "text": [
      "{\"Óbitos_Acumulados\":\"526,892\",\"Óbitos_Novos\":\"1,780\",\"Incidência_[%]\":\"2.8\",\"Mortalidade\":\"250.7\"}\n"
     ]
    }
   ],
   "source": [
    "# Verificando a gravação no tópico kafka:\n",
    "\n",
    "input_tabela_obitos = spark.read \\\n",
    "                    .format(\"kafka\") \\\n",
    "                    .option(\"kafka.bootstrap.servers\", \"kafka:9092\") \\\n",
    "                    .option(\"subscribe\", \"obitos-confirmados\") \\\n",
    "                    .load()\n",
    "\n",
    "print(input_tabela_obitos.selectExpr(\"CAST(last(value) AS string)\").collect()[0][0])"
   ]
  },
  {
   "cell_type": "markdown",
   "metadata": {},
   "source": [
    "## Questão 7"
   ]
  },
  {
   "cell_type": "code",
   "execution_count": 163,
   "metadata": {},
   "outputs": [
    {
     "name": "stdout",
     "output_type": "stream",
     "text": [
      "+-------+----------------+------+-----------------+----------------+-------------------+\n",
      "|Regiões|populacaoTCU2019|cidade|Óbitos_Acumulados|Casos_Acumulados|        Atualização|\n",
      "+-------+----------------+------+-----------------+----------------+-------------------+\n",
      "| Brasil|       210147125|  null|           526892|        18855015|2021-07-06 00:00:00|\n",
      "|Sudeste|        45919049|  null|           130389|         3809222|2021-07-06 00:00:00|\n",
      "|Sudeste|        17264943|  null|            56192|          970268|2021-07-06 00:00:00|\n",
      "|Sudeste|        21168791|  null|            47148|         1836198|2021-07-06 00:00:00|\n",
      "|    Sul|        11377239|  null|            31867|         1235914|2021-07-06 00:00:00|\n",
      "+-------+----------------+------+-----------------+----------------+-------------------+\n",
      "only showing top 5 rows\n",
      "\n"
     ]
    }
   ],
   "source": [
    "# Criando a visualização dos dados enviados ao HDFS:\n",
    "\n",
    "df_vis_4 =  df_visualizacao.select(\n",
    "                        col('regiao').alias(\"Regiões\"),\\\n",
    "                        col(\"populacaoTCU2019\"),\n",
    "                        col('municipio').cast(\"string\").alias(\"cidade\"),\\\n",
    "                        col(\"obitosAcumulado\").alias(\"Óbitos_Acumulados\"),\\\n",
    "                        col(\"casosAcumulado\").alias(\"Casos_Acumulados\"),\\\n",
    "                        col(\"data\").alias(\"Atualização\")\\\n",
    "                                    ).dropna(subset=[\"populacaoTCU2019\"]).\\\n",
    "                                    sort(desc(\"obitosAcumulado\")).\\\n",
    "                                    filter((col(\"data\") == data_max) & (col(\"cidade\").isNull()))\n",
    "df_vis_4.show(5)"
   ]
  },
  {
   "cell_type": "code",
   "execution_count": 165,
   "metadata": {},
   "outputs": [
    {
     "name": "stdout",
     "output_type": "stream",
     "text": [
      "+------------+----------------+-----------------+--------------+-----------+----------------+\n",
      "|     Regiões|Casos_Acumulados|Óbitos_Acumulados|Incidência_[%]|Mortalidade|     Atualização|\n",
      "+------------+----------------+-----------------+--------------+-----------+----------------+\n",
      "|      Brasil|      18,855,015|          526,892|           2.8|      250.7|06/07/2021 12:00|\n",
      "|Centro-Oeste|       1,916,619|           49,207|           2.6|      301.9|06/07/2021 12:00|\n",
      "|    Nordeste|       4,455,737|          107,824|           2.4|      188.9|06/07/2021 12:00|\n",
      "|       Norte|       1,732,815|           43,845|           2.5|      237.9|06/07/2021 12:00|\n",
      "|     Sudeste|       7,138,803|          245,311|           3.4|      277.6|06/07/2021 12:00|\n",
      "|         Sul|       3,611,041|           80,705|           2.2|      269.2|06/07/2021 12:00|\n",
      "+------------+----------------+-----------------+--------------+-----------+----------------+\n",
      "\n"
     ]
    }
   ],
   "source": [
    "# Após filtrar valores repetidos da tabela do HDFS, montado a tabela da visualização 4:\n",
    "\n",
    "df_final_vis_4 = df_vis_4.groupBy(\"Regiões\").agg(\n",
    "                        format_number(sum(\"Casos_Acumulados\"),0).alias(\"Casos_Acumulados\"),    \n",
    "                        format_number(sum(\"Óbitos_Acumulados\"), 0).alias(\"Óbitos_Acumulados\"),\n",
    "                        format_number((sum(\"Óbitos_Acumulados\")/sum(\"Casos_Acumulados\")*100),1).alias(\"Incidência_[%]\"),\n",
    "                        format_number((sum(\"Óbitos_Acumulados\")/sum(\"populacaoTCU2019\")*100000),1).alias(\"Mortalidade\"),\n",
    "                        date_format(max(\"Atualização\"), \"dd/MM/yyyy hh:mm\").alias(\"Atualização\")                           \n",
    "                                           ).sort(\"Regiões\")\n",
    "\n",
    "df_final_vis_4.show()"
   ]
  }
 ],
 "metadata": {
  "kernelspec": {
   "display_name": "PySpark",
   "language": "python",
   "name": "pyspark"
  },
  "language_info": {
   "codemirror_mode": {
    "name": "ipython",
    "version": 3
   },
   "file_extension": ".py",
   "mimetype": "text/x-python",
   "name": "python",
   "nbconvert_exporter": "python",
   "pygments_lexer": "ipython3",
   "version": "3.6.10"
  }
 },
 "nbformat": 4,
 "nbformat_minor": 2
}
